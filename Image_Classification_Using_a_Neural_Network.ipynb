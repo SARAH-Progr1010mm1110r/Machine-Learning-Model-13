{
  "nbformat": 4,
  "nbformat_minor": 0,
  "metadata": {
    "colab": {
      "provenance": [],
      "collapsed_sections": [
        "EgkcNWOHVrOP"
      ]
    },
    "kernelspec": {
      "name": "python3",
      "display_name": "Python 3"
    },
    "language_info": {
      "name": "python"
    }
  },
  "cells": [
    {
      "cell_type": "markdown",
      "source": [
        "\n",
        "\n",
        "---\n",
        "\n",
        "Image Classification Using a Neural Network\n",
        "\n",
        "\n",
        "---\n",
        "\n",
        "**Assignment:**\n",
        "\n",
        "Create an image classification model using a neural network model to classify images of clothing from the Fashion MNIST dataset directly from TensorFlow.\n",
        "\n",
        "* **Important Notes:**\n",
        "\n",
        "   * Fashion MNIST is intended as a drop-in replacement for the classic MNIST dataset—often used as the \"Hello, World\" machine learning program for computer vision.\n",
        "   * The dataset is relatively small and used to verify that an algorithm works as expected.\n",
        "   * It is a starting point to test and debug code in image classification applications.\n",
        "   * It has 60,000 images to train the network and 10,000 to evaluate how accurately it learned to classify images.\n",
        "   * You can access the Fashion MNIST directly from TensorFlow.\n",
        "   * Make sure to submit your Jupyter Notebook, which includes all the related codes.\n",
        "   * Add enough comments and markdowns to guide the reviewer in all the steps you followed.\n"
      ],
      "metadata": {
        "id": "YMlNkrvG_6eX"
      }
    },
    {
      "cell_type": "markdown",
      "source": [
        "**import/install required libraries**"
      ],
      "metadata": {
        "id": "EgkcNWOHVrOP"
      }
    },
    {
      "cell_type": "code",
      "source": [
        "# TensorFlow and tf.keras\n",
        "import tensorflow as tf\n",
        "tf.config.experimental.list_physical_devices()"
      ],
      "metadata": {
        "colab": {
          "base_uri": "https://localhost:8080/"
        },
        "id": "czw6YuHkPlV8",
        "outputId": "3ed80b56-57b6-4a3c-e122-cf9401747630"
      },
      "execution_count": 1,
      "outputs": [
        {
          "output_type": "execute_result",
          "data": {
            "text/plain": [
              "[PhysicalDevice(name='/physical_device:CPU:0', device_type='CPU')]"
            ]
          },
          "metadata": {},
          "execution_count": 1
        }
      ]
    },
    {
      "cell_type": "code",
      "source": [
        "! pip install tensorflow --upgrade"
      ],
      "metadata": {
        "colab": {
          "base_uri": "https://localhost:8080/",
          "height": 1000
        },
        "id": "En_T40YI9wxe",
        "outputId": "7beee368-55d8-4505-ac2a-fc013a5bf7f4"
      },
      "execution_count": 2,
      "outputs": [
        {
          "output_type": "stream",
          "name": "stdout",
          "text": [
            "Looking in indexes: https://pypi.org/simple, https://us-python.pkg.dev/colab-wheels/public/simple/\n",
            "Requirement already satisfied: tensorflow in /usr/local/lib/python3.7/dist-packages (2.9.2)\n",
            "Collecting tensorflow\n",
            "  Downloading tensorflow-2.10.0-cp37-cp37m-manylinux_2_17_x86_64.manylinux2014_x86_64.whl (578.0 MB)\n",
            "\u001b[K     |████████████████████████████████| 578.0 MB 18 kB/s \n",
            "\u001b[?25hRequirement already satisfied: astunparse>=1.6.0 in /usr/local/lib/python3.7/dist-packages (from tensorflow) (1.6.3)\n",
            "Collecting keras<2.11,>=2.10.0\n",
            "  Downloading keras-2.10.0-py2.py3-none-any.whl (1.7 MB)\n",
            "\u001b[K     |████████████████████████████████| 1.7 MB 71.1 MB/s \n",
            "\u001b[?25hRequirement already satisfied: protobuf<3.20,>=3.9.2 in /usr/local/lib/python3.7/dist-packages (from tensorflow) (3.17.3)\n",
            "Requirement already satisfied: setuptools in /usr/local/lib/python3.7/dist-packages (from tensorflow) (57.4.0)\n",
            "Collecting flatbuffers>=2.0\n",
            "  Downloading flatbuffers-22.10.26-py2.py3-none-any.whl (26 kB)\n",
            "Requirement already satisfied: gast<=0.4.0,>=0.2.1 in /usr/local/lib/python3.7/dist-packages (from tensorflow) (0.4.0)\n",
            "Requirement already satisfied: libclang>=13.0.0 in /usr/local/lib/python3.7/dist-packages (from tensorflow) (14.0.6)\n",
            "Requirement already satisfied: packaging in /usr/local/lib/python3.7/dist-packages (from tensorflow) (21.3)\n",
            "Requirement already satisfied: six>=1.12.0 in /usr/local/lib/python3.7/dist-packages (from tensorflow) (1.15.0)\n",
            "Requirement already satisfied: h5py>=2.9.0 in /usr/local/lib/python3.7/dist-packages (from tensorflow) (3.1.0)\n",
            "Requirement already satisfied: google-pasta>=0.1.1 in /usr/local/lib/python3.7/dist-packages (from tensorflow) (0.2.0)\n",
            "Requirement already satisfied: absl-py>=1.0.0 in /usr/local/lib/python3.7/dist-packages (from tensorflow) (1.3.0)\n",
            "Requirement already satisfied: typing-extensions>=3.6.6 in /usr/local/lib/python3.7/dist-packages (from tensorflow) (4.1.1)\n",
            "Requirement already satisfied: termcolor>=1.1.0 in /usr/local/lib/python3.7/dist-packages (from tensorflow) (2.0.1)\n",
            "Requirement already satisfied: grpcio<2.0,>=1.24.3 in /usr/local/lib/python3.7/dist-packages (from tensorflow) (1.50.0)\n",
            "Requirement already satisfied: wrapt>=1.11.0 in /usr/local/lib/python3.7/dist-packages (from tensorflow) (1.14.1)\n",
            "Collecting tensorboard<2.11,>=2.10\n",
            "  Downloading tensorboard-2.10.1-py3-none-any.whl (5.9 MB)\n",
            "\u001b[K     |████████████████████████████████| 5.9 MB 58.3 MB/s \n",
            "\u001b[?25hRequirement already satisfied: keras-preprocessing>=1.1.1 in /usr/local/lib/python3.7/dist-packages (from tensorflow) (1.1.2)\n",
            "Requirement already satisfied: opt-einsum>=2.3.2 in /usr/local/lib/python3.7/dist-packages (from tensorflow) (3.3.0)\n",
            "Requirement already satisfied: tensorflow-io-gcs-filesystem>=0.23.1 in /usr/local/lib/python3.7/dist-packages (from tensorflow) (0.27.0)\n",
            "Requirement already satisfied: numpy>=1.20 in /usr/local/lib/python3.7/dist-packages (from tensorflow) (1.21.6)\n",
            "Collecting tensorflow-estimator<2.11,>=2.10.0\n",
            "  Downloading tensorflow_estimator-2.10.0-py2.py3-none-any.whl (438 kB)\n",
            "\u001b[K     |████████████████████████████████| 438 kB 60.5 MB/s \n",
            "\u001b[?25hRequirement already satisfied: wheel<1.0,>=0.23.0 in /usr/local/lib/python3.7/dist-packages (from astunparse>=1.6.0->tensorflow) (0.37.1)\n",
            "Requirement already satisfied: cached-property in /usr/local/lib/python3.7/dist-packages (from h5py>=2.9.0->tensorflow) (1.5.2)\n",
            "Requirement already satisfied: tensorboard-data-server<0.7.0,>=0.6.0 in /usr/local/lib/python3.7/dist-packages (from tensorboard<2.11,>=2.10->tensorflow) (0.6.1)\n",
            "Requirement already satisfied: google-auth-oauthlib<0.5,>=0.4.1 in /usr/local/lib/python3.7/dist-packages (from tensorboard<2.11,>=2.10->tensorflow) (0.4.6)\n",
            "Requirement already satisfied: markdown>=2.6.8 in /usr/local/lib/python3.7/dist-packages (from tensorboard<2.11,>=2.10->tensorflow) (3.4.1)\n",
            "Requirement already satisfied: requests<3,>=2.21.0 in /usr/local/lib/python3.7/dist-packages (from tensorboard<2.11,>=2.10->tensorflow) (2.23.0)\n",
            "Requirement already satisfied: google-auth<3,>=1.6.3 in /usr/local/lib/python3.7/dist-packages (from tensorboard<2.11,>=2.10->tensorflow) (1.35.0)\n",
            "Requirement already satisfied: tensorboard-plugin-wit>=1.6.0 in /usr/local/lib/python3.7/dist-packages (from tensorboard<2.11,>=2.10->tensorflow) (1.8.1)\n",
            "Requirement already satisfied: werkzeug>=1.0.1 in /usr/local/lib/python3.7/dist-packages (from tensorboard<2.11,>=2.10->tensorflow) (1.0.1)\n",
            "Requirement already satisfied: cachetools<5.0,>=2.0.0 in /usr/local/lib/python3.7/dist-packages (from google-auth<3,>=1.6.3->tensorboard<2.11,>=2.10->tensorflow) (4.2.4)\n",
            "Requirement already satisfied: pyasn1-modules>=0.2.1 in /usr/local/lib/python3.7/dist-packages (from google-auth<3,>=1.6.3->tensorboard<2.11,>=2.10->tensorflow) (0.2.8)\n",
            "Requirement already satisfied: rsa<5,>=3.1.4 in /usr/local/lib/python3.7/dist-packages (from google-auth<3,>=1.6.3->tensorboard<2.11,>=2.10->tensorflow) (4.9)\n",
            "Requirement already satisfied: requests-oauthlib>=0.7.0 in /usr/local/lib/python3.7/dist-packages (from google-auth-oauthlib<0.5,>=0.4.1->tensorboard<2.11,>=2.10->tensorflow) (1.3.1)\n",
            "Requirement already satisfied: importlib-metadata>=4.4 in /usr/local/lib/python3.7/dist-packages (from markdown>=2.6.8->tensorboard<2.11,>=2.10->tensorflow) (4.13.0)\n",
            "Requirement already satisfied: zipp>=0.5 in /usr/local/lib/python3.7/dist-packages (from importlib-metadata>=4.4->markdown>=2.6.8->tensorboard<2.11,>=2.10->tensorflow) (3.10.0)\n",
            "Requirement already satisfied: pyasn1<0.5.0,>=0.4.6 in /usr/local/lib/python3.7/dist-packages (from pyasn1-modules>=0.2.1->google-auth<3,>=1.6.3->tensorboard<2.11,>=2.10->tensorflow) (0.4.8)\n",
            "Requirement already satisfied: idna<3,>=2.5 in /usr/local/lib/python3.7/dist-packages (from requests<3,>=2.21.0->tensorboard<2.11,>=2.10->tensorflow) (2.10)\n",
            "Requirement already satisfied: chardet<4,>=3.0.2 in /usr/local/lib/python3.7/dist-packages (from requests<3,>=2.21.0->tensorboard<2.11,>=2.10->tensorflow) (3.0.4)\n",
            "Requirement already satisfied: urllib3!=1.25.0,!=1.25.1,<1.26,>=1.21.1 in /usr/local/lib/python3.7/dist-packages (from requests<3,>=2.21.0->tensorboard<2.11,>=2.10->tensorflow) (1.24.3)\n",
            "Requirement already satisfied: certifi>=2017.4.17 in /usr/local/lib/python3.7/dist-packages (from requests<3,>=2.21.0->tensorboard<2.11,>=2.10->tensorflow) (2022.9.24)\n",
            "Requirement already satisfied: oauthlib>=3.0.0 in /usr/local/lib/python3.7/dist-packages (from requests-oauthlib>=0.7.0->google-auth-oauthlib<0.5,>=0.4.1->tensorboard<2.11,>=2.10->tensorflow) (3.2.2)\n",
            "Requirement already satisfied: pyparsing!=3.0.5,>=2.0.2 in /usr/local/lib/python3.7/dist-packages (from packaging->tensorflow) (3.0.9)\n",
            "Installing collected packages: tensorflow-estimator, tensorboard, keras, flatbuffers, tensorflow\n",
            "  Attempting uninstall: tensorflow-estimator\n",
            "    Found existing installation: tensorflow-estimator 2.9.0\n",
            "    Uninstalling tensorflow-estimator-2.9.0:\n",
            "      Successfully uninstalled tensorflow-estimator-2.9.0\n",
            "  Attempting uninstall: tensorboard\n",
            "    Found existing installation: tensorboard 2.9.1\n",
            "    Uninstalling tensorboard-2.9.1:\n",
            "      Successfully uninstalled tensorboard-2.9.1\n",
            "  Attempting uninstall: keras\n",
            "    Found existing installation: keras 2.9.0\n",
            "    Uninstalling keras-2.9.0:\n",
            "      Successfully uninstalled keras-2.9.0\n",
            "  Attempting uninstall: flatbuffers\n",
            "    Found existing installation: flatbuffers 1.12\n",
            "    Uninstalling flatbuffers-1.12:\n",
            "      Successfully uninstalled flatbuffers-1.12\n",
            "  Attempting uninstall: tensorflow\n",
            "    Found existing installation: tensorflow 2.9.2\n",
            "    Uninstalling tensorflow-2.9.2:\n",
            "      Successfully uninstalled tensorflow-2.9.2\n",
            "Successfully installed flatbuffers-22.10.26 keras-2.10.0 tensorboard-2.10.1 tensorflow-2.10.0 tensorflow-estimator-2.10.0\n"
          ]
        },
        {
          "output_type": "display_data",
          "data": {
            "application/vnd.colab-display-data+json": {
              "pip_warning": {
                "packages": [
                  "flatbuffers",
                  "keras",
                  "tensorboard",
                  "tensorflow"
                ]
              }
            }
          },
          "metadata": {}
        }
      ]
    },
    {
      "cell_type": "code",
      "source": [
        "! pip install keras"
      ],
      "metadata": {
        "colab": {
          "base_uri": "https://localhost:8080/"
        },
        "id": "htXuN2cu95Tx",
        "outputId": "f6f2b977-3975-44c2-9ec0-bd48fbf036a1"
      },
      "execution_count": 3,
      "outputs": [
        {
          "output_type": "stream",
          "name": "stdout",
          "text": [
            "Looking in indexes: https://pypi.org/simple, https://us-python.pkg.dev/colab-wheels/public/simple/\n",
            "Requirement already satisfied: keras in /usr/local/lib/python3.7/dist-packages (2.10.0)\n"
          ]
        }
      ]
    },
    {
      "cell_type": "code",
      "source": [
        "!pip install imageio\n",
        "!pip install scikit-image"
      ],
      "metadata": {
        "colab": {
          "base_uri": "https://localhost:8080/"
        },
        "id": "6PLsfLz-EFpB",
        "outputId": "9ec846b3-d754-4cad-c378-f0e08ac0a844"
      },
      "execution_count": 6,
      "outputs": [
        {
          "output_type": "stream",
          "name": "stdout",
          "text": [
            "Looking in indexes: https://pypi.org/simple, https://us-python.pkg.dev/colab-wheels/public/simple/\n",
            "Requirement already satisfied: imageio in /usr/local/lib/python3.7/dist-packages (2.9.0)\n",
            "Requirement already satisfied: numpy in /usr/local/lib/python3.7/dist-packages (from imageio) (1.21.6)\n",
            "Requirement already satisfied: pillow in /usr/local/lib/python3.7/dist-packages (from imageio) (7.1.2)\n",
            "Looking in indexes: https://pypi.org/simple, https://us-python.pkg.dev/colab-wheels/public/simple/\n",
            "Requirement already satisfied: scikit-image in /usr/local/lib/python3.7/dist-packages (0.18.3)\n",
            "Requirement already satisfied: matplotlib!=3.0.0,>=2.0.0 in /usr/local/lib/python3.7/dist-packages (from scikit-image) (3.2.2)\n",
            "Requirement already satisfied: imageio>=2.3.0 in /usr/local/lib/python3.7/dist-packages (from scikit-image) (2.9.0)\n",
            "Requirement already satisfied: PyWavelets>=1.1.1 in /usr/local/lib/python3.7/dist-packages (from scikit-image) (1.3.0)\n",
            "Requirement already satisfied: tifffile>=2019.7.26 in /usr/local/lib/python3.7/dist-packages (from scikit-image) (2021.11.2)\n",
            "Requirement already satisfied: scipy>=1.0.1 in /usr/local/lib/python3.7/dist-packages (from scikit-image) (1.7.3)\n",
            "Requirement already satisfied: pillow!=7.1.0,!=7.1.1,>=4.3.0 in /usr/local/lib/python3.7/dist-packages (from scikit-image) (7.1.2)\n",
            "Requirement already satisfied: numpy>=1.16.5 in /usr/local/lib/python3.7/dist-packages (from scikit-image) (1.21.6)\n",
            "Requirement already satisfied: networkx>=2.0 in /usr/local/lib/python3.7/dist-packages (from scikit-image) (2.6.3)\n",
            "Requirement already satisfied: kiwisolver>=1.0.1 in /usr/local/lib/python3.7/dist-packages (from matplotlib!=3.0.0,>=2.0.0->scikit-image) (1.4.4)\n",
            "Requirement already satisfied: pyparsing!=2.0.4,!=2.1.2,!=2.1.6,>=2.0.1 in /usr/local/lib/python3.7/dist-packages (from matplotlib!=3.0.0,>=2.0.0->scikit-image) (3.0.9)\n",
            "Requirement already satisfied: python-dateutil>=2.1 in /usr/local/lib/python3.7/dist-packages (from matplotlib!=3.0.0,>=2.0.0->scikit-image) (2.8.2)\n",
            "Requirement already satisfied: cycler>=0.10 in /usr/local/lib/python3.7/dist-packages (from matplotlib!=3.0.0,>=2.0.0->scikit-image) (0.11.0)\n",
            "Requirement already satisfied: typing-extensions in /usr/local/lib/python3.7/dist-packages (from kiwisolver>=1.0.1->matplotlib!=3.0.0,>=2.0.0->scikit-image) (4.1.1)\n",
            "Requirement already satisfied: six>=1.5 in /usr/local/lib/python3.7/dist-packages (from python-dateutil>=2.1->matplotlib!=3.0.0,>=2.0.0->scikit-image) (1.15.0)\n"
          ]
        }
      ]
    },
    {
      "cell_type": "code",
      "source": [
        "# Note: 'AttributeError: module 'tensorflow_core.keras.layers' has no attribute 'experimental''\n",
        "#! pip install tensorflow --upgrade\n",
        "\n",
        "from tensorflow import keras\n",
        "from tensorflow.keras import layers  "
      ],
      "metadata": {
        "id": "SqvO4beJ9xjO"
      },
      "execution_count": 4,
      "outputs": []
    },
    {
      "cell_type": "code",
      "execution_count": 5,
      "metadata": {
        "id": "tsjwh2tj_15E"
      },
      "outputs": [],
      "source": [
        "# Helper libraries\n",
        "import numpy as np\n",
        "import matplotlib.pyplot as plt\n",
        "\n",
        "from tensorflow.keras.models import Sequential , Model\n",
        "from tensorflow.keras import datasets\n",
        "from tensorflow.keras.models import Sequential , Model\n",
        "from tensorflow.keras.layers import Dense, Conv2D, MaxPooling2D, Flatten, Dropout\n",
        "from tensorflow.keras.optimizers import Adam\n"
      ]
    },
    {
      "cell_type": "markdown",
      "source": [
        "**cheeck out the version**"
      ],
      "metadata": {
        "id": "nBAj-Xu6-8T9"
      }
    },
    {
      "cell_type": "code",
      "source": [
        "print(tf.__version__)"
      ],
      "metadata": {
        "colab": {
          "base_uri": "https://localhost:8080/"
        },
        "id": "xO4FodS0CmHU",
        "outputId": "a0e83c2d-331d-4861-a49b-f5bd047ec17f"
      },
      "execution_count": 7,
      "outputs": [
        {
          "output_type": "stream",
          "name": "stdout",
          "text": [
            "2.9.2\n"
          ]
        }
      ]
    },
    {
      "cell_type": "code",
      "source": [
        "?Sequential"
      ],
      "metadata": {
        "id": "ygF5y-8F-KQb"
      },
      "execution_count": 8,
      "outputs": []
    },
    {
      "cell_type": "markdown",
      "source": [
        "**Import the Fashion MNIST dataset**"
      ],
      "metadata": {
        "id": "WUoed__Q_ahy"
      }
    },
    {
      "cell_type": "code",
      "source": [
        "fashion_mnist = tf.keras.datasets.fashion_mnist\n",
        "\n",
        "(train_images, train_labels), (test_images, test_labels) = fashion_mnist.load_data()"
      ],
      "metadata": {
        "id": "1bF01h6qC3z3",
        "colab": {
          "base_uri": "https://localhost:8080/"
        },
        "outputId": "eaeefd42-b747-417c-f4fb-4aff3656f2f5"
      },
      "execution_count": 9,
      "outputs": [
        {
          "output_type": "stream",
          "name": "stdout",
          "text": [
            "Downloading data from https://storage.googleapis.com/tensorflow/tf-keras-datasets/train-labels-idx1-ubyte.gz\n",
            "29515/29515 [==============================] - 0s 0us/step\n",
            "Downloading data from https://storage.googleapis.com/tensorflow/tf-keras-datasets/train-images-idx3-ubyte.gz\n",
            "26421880/26421880 [==============================] - 0s 0us/step\n",
            "Downloading data from https://storage.googleapis.com/tensorflow/tf-keras-datasets/t10k-labels-idx1-ubyte.gz\n",
            "5148/5148 [==============================] - 0s 0us/step\n",
            "Downloading data from https://storage.googleapis.com/tensorflow/tf-keras-datasets/t10k-images-idx3-ubyte.gz\n",
            "4422102/4422102 [==============================] - 0s 0us/step\n"
          ]
        }
      ]
    },
    {
      "cell_type": "markdown",
      "source": [
        "**The labels are number ranging from 0 to 9. These the class of clothing the image represents**"
      ],
      "metadata": {
        "id": "2k5Cu38DANrs"
      }
    },
    {
      "cell_type": "code",
      "source": [
        "class_names = ['T-shirt/top', 'Trouser', 'Pullover', 'Dress', 'Coat',\n",
        "               'Sandal', 'Shirt', 'Sneaker', 'Bag', 'Ankle boot']"
      ],
      "metadata": {
        "id": "mzoQURc-C-7o"
      },
      "execution_count": 10,
      "outputs": []
    },
    {
      "cell_type": "code",
      "source": [
        "train_images[0]\n"
      ],
      "metadata": {
        "colab": {
          "base_uri": "https://localhost:8080/"
        },
        "id": "sXclG1RI9uKY",
        "outputId": "ed1e347c-e354-4542-8a54-a26e0abd4c40"
      },
      "execution_count": 11,
      "outputs": [
        {
          "output_type": "execute_result",
          "data": {
            "text/plain": [
              "array([[  0,   0,   0,   0,   0,   0,   0,   0,   0,   0,   0,   0,   0,\n",
              "          0,   0,   0,   0,   0,   0,   0,   0,   0,   0,   0,   0,   0,\n",
              "          0,   0],\n",
              "       [  0,   0,   0,   0,   0,   0,   0,   0,   0,   0,   0,   0,   0,\n",
              "          0,   0,   0,   0,   0,   0,   0,   0,   0,   0,   0,   0,   0,\n",
              "          0,   0],\n",
              "       [  0,   0,   0,   0,   0,   0,   0,   0,   0,   0,   0,   0,   0,\n",
              "          0,   0,   0,   0,   0,   0,   0,   0,   0,   0,   0,   0,   0,\n",
              "          0,   0],\n",
              "       [  0,   0,   0,   0,   0,   0,   0,   0,   0,   0,   0,   0,   1,\n",
              "          0,   0,  13,  73,   0,   0,   1,   4,   0,   0,   0,   0,   1,\n",
              "          1,   0],\n",
              "       [  0,   0,   0,   0,   0,   0,   0,   0,   0,   0,   0,   0,   3,\n",
              "          0,  36, 136, 127,  62,  54,   0,   0,   0,   1,   3,   4,   0,\n",
              "          0,   3],\n",
              "       [  0,   0,   0,   0,   0,   0,   0,   0,   0,   0,   0,   0,   6,\n",
              "          0, 102, 204, 176, 134, 144, 123,  23,   0,   0,   0,   0,  12,\n",
              "         10,   0],\n",
              "       [  0,   0,   0,   0,   0,   0,   0,   0,   0,   0,   0,   0,   0,\n",
              "          0, 155, 236, 207, 178, 107, 156, 161, 109,  64,  23,  77, 130,\n",
              "         72,  15],\n",
              "       [  0,   0,   0,   0,   0,   0,   0,   0,   0,   0,   0,   1,   0,\n",
              "         69, 207, 223, 218, 216, 216, 163, 127, 121, 122, 146, 141,  88,\n",
              "        172,  66],\n",
              "       [  0,   0,   0,   0,   0,   0,   0,   0,   0,   1,   1,   1,   0,\n",
              "        200, 232, 232, 233, 229, 223, 223, 215, 213, 164, 127, 123, 196,\n",
              "        229,   0],\n",
              "       [  0,   0,   0,   0,   0,   0,   0,   0,   0,   0,   0,   0,   0,\n",
              "        183, 225, 216, 223, 228, 235, 227, 224, 222, 224, 221, 223, 245,\n",
              "        173,   0],\n",
              "       [  0,   0,   0,   0,   0,   0,   0,   0,   0,   0,   0,   0,   0,\n",
              "        193, 228, 218, 213, 198, 180, 212, 210, 211, 213, 223, 220, 243,\n",
              "        202,   0],\n",
              "       [  0,   0,   0,   0,   0,   0,   0,   0,   0,   1,   3,   0,  12,\n",
              "        219, 220, 212, 218, 192, 169, 227, 208, 218, 224, 212, 226, 197,\n",
              "        209,  52],\n",
              "       [  0,   0,   0,   0,   0,   0,   0,   0,   0,   0,   6,   0,  99,\n",
              "        244, 222, 220, 218, 203, 198, 221, 215, 213, 222, 220, 245, 119,\n",
              "        167,  56],\n",
              "       [  0,   0,   0,   0,   0,   0,   0,   0,   0,   4,   0,   0,  55,\n",
              "        236, 228, 230, 228, 240, 232, 213, 218, 223, 234, 217, 217, 209,\n",
              "         92,   0],\n",
              "       [  0,   0,   1,   4,   6,   7,   2,   0,   0,   0,   0,   0, 237,\n",
              "        226, 217, 223, 222, 219, 222, 221, 216, 223, 229, 215, 218, 255,\n",
              "         77,   0],\n",
              "       [  0,   3,   0,   0,   0,   0,   0,   0,   0,  62, 145, 204, 228,\n",
              "        207, 213, 221, 218, 208, 211, 218, 224, 223, 219, 215, 224, 244,\n",
              "        159,   0],\n",
              "       [  0,   0,   0,   0,  18,  44,  82, 107, 189, 228, 220, 222, 217,\n",
              "        226, 200, 205, 211, 230, 224, 234, 176, 188, 250, 248, 233, 238,\n",
              "        215,   0],\n",
              "       [  0,  57, 187, 208, 224, 221, 224, 208, 204, 214, 208, 209, 200,\n",
              "        159, 245, 193, 206, 223, 255, 255, 221, 234, 221, 211, 220, 232,\n",
              "        246,   0],\n",
              "       [  3, 202, 228, 224, 221, 211, 211, 214, 205, 205, 205, 220, 240,\n",
              "         80, 150, 255, 229, 221, 188, 154, 191, 210, 204, 209, 222, 228,\n",
              "        225,   0],\n",
              "       [ 98, 233, 198, 210, 222, 229, 229, 234, 249, 220, 194, 215, 217,\n",
              "        241,  65,  73, 106, 117, 168, 219, 221, 215, 217, 223, 223, 224,\n",
              "        229,  29],\n",
              "       [ 75, 204, 212, 204, 193, 205, 211, 225, 216, 185, 197, 206, 198,\n",
              "        213, 240, 195, 227, 245, 239, 223, 218, 212, 209, 222, 220, 221,\n",
              "        230,  67],\n",
              "       [ 48, 203, 183, 194, 213, 197, 185, 190, 194, 192, 202, 214, 219,\n",
              "        221, 220, 236, 225, 216, 199, 206, 186, 181, 177, 172, 181, 205,\n",
              "        206, 115],\n",
              "       [  0, 122, 219, 193, 179, 171, 183, 196, 204, 210, 213, 207, 211,\n",
              "        210, 200, 196, 194, 191, 195, 191, 198, 192, 176, 156, 167, 177,\n",
              "        210,  92],\n",
              "       [  0,   0,  74, 189, 212, 191, 175, 172, 175, 181, 185, 188, 189,\n",
              "        188, 193, 198, 204, 209, 210, 210, 211, 188, 188, 194, 192, 216,\n",
              "        170,   0],\n",
              "       [  2,   0,   0,   0,  66, 200, 222, 237, 239, 242, 246, 243, 244,\n",
              "        221, 220, 193, 191, 179, 182, 182, 181, 176, 166, 168,  99,  58,\n",
              "          0,   0],\n",
              "       [  0,   0,   0,   0,   0,   0,   0,  40,  61,  44,  72,  41,  35,\n",
              "          0,   0,   0,   0,   0,   0,   0,   0,   0,   0,   0,   0,   0,\n",
              "          0,   0],\n",
              "       [  0,   0,   0,   0,   0,   0,   0,   0,   0,   0,   0,   0,   0,\n",
              "          0,   0,   0,   0,   0,   0,   0,   0,   0,   0,   0,   0,   0,\n",
              "          0,   0],\n",
              "       [  0,   0,   0,   0,   0,   0,   0,   0,   0,   0,   0,   0,   0,\n",
              "          0,   0,   0,   0,   0,   0,   0,   0,   0,   0,   0,   0,   0,\n",
              "          0,   0]], dtype=uint8)"
            ]
          },
          "metadata": {},
          "execution_count": 11
        }
      ]
    },
    {
      "cell_type": "markdown",
      "source": [
        "**Explore the data**"
      ],
      "metadata": {
        "id": "_ZtVJbr5AXmf"
      }
    },
    {
      "cell_type": "code",
      "source": [
        "print(train_images.shape)\n",
        "print(train_labels.shape)\n",
        "print(test_images.shape)\n",
        "print(test_labels.shape)"
      ],
      "metadata": {
        "colab": {
          "base_uri": "https://localhost:8080/"
        },
        "id": "lKwrpZw9He_6",
        "outputId": "b7897c7c-ef46-425d-8fbf-ec5670d34c99"
      },
      "execution_count": 12,
      "outputs": [
        {
          "output_type": "stream",
          "name": "stdout",
          "text": [
            "(60000, 28, 28)\n",
            "(60000,)\n",
            "(10000, 28, 28)\n",
            "(10000,)\n"
          ]
        }
      ]
    },
    {
      "cell_type": "code",
      "source": [
        "plt.figure()\n",
        "plt.imshow(train_images[0])\n",
        "plt.colorbar()\n",
        "plt.grid(False)\n",
        "plt.show()"
      ],
      "metadata": {
        "colab": {
          "base_uri": "https://localhost:8080/",
          "height": 265
        },
        "id": "cdAPnqYA_trJ",
        "outputId": "53df1491-9832-4121-bd9b-a71141b6e988"
      },
      "execution_count": 13,
      "outputs": [
        {
          "output_type": "display_data",
          "data": {
            "text/plain": [
              "<Figure size 432x288 with 2 Axes>"
            ],
            "image/png": "[encoded data removed]"
          },
          "metadata": {
            "needs_background": "light"
          }
        }
      ]
    },
    {
      "cell_type": "code",
      "source": [
        "plt.figure(figsize=(10,10))\n",
        "for i in range(25):\n",
        "    plt.subplot(5,5,i+1)\n",
        "    plt.xticks([])\n",
        "    plt.yticks([])\n",
        "    plt.grid(False)\n",
        "    plt.imshow(train_images[i], cmap=plt.cm.binary)\n",
        "    plt.xlabel(class_names[train_labels[i]])\n",
        "plt.show()"
      ],
      "metadata": {
        "colab": {
          "base_uri": "https://localhost:8080/",
          "height": 589
        },
        "id": "7PWvEOqnBWvn",
        "outputId": "3800a3bb-93e3-41a8-ba5b-66cfde464a2e"
      },
      "execution_count": 14,
      "outputs": [
        {
          "output_type": "display_data",
          "data": {
            "text/plain": [
              "<Figure size 720x720 with 25 Axes>"
            ],
            "image/png": "[encoded data removed]"
          },
          "metadata": {}
        }
      ]
    },
    {
      "cell_type": "markdown",
      "source": [
        "# **Preprocess the data**"
      ],
      "metadata": {
        "id": "L-xu3UKHAiNy"
      }
    },
    {
      "cell_type": "markdown",
      "source": [
        "**Normalizing**"
      ],
      "metadata": {
        "id": "ZpsjQYVoAoLr"
      }
    },
    {
      "cell_type": "code",
      "source": [
        "train_images = train_images / 255.0\n",
        "\n",
        "test_images = test_images / 255.0"
      ],
      "metadata": {
        "id": "MzGHsE2I_th5"
      },
      "execution_count": 15,
      "outputs": []
    },
    {
      "cell_type": "markdown",
      "source": [
        "**Reshaping the Image**"
      ],
      "metadata": {
        "id": "d6wyvYFuA7Jk"
      }
    },
    {
      "cell_type": "code",
      "source": [
        "# redimensionar as imagens\n",
        "train_images = train_images.reshape((train_images.shape[0], train_images.shape[1], train_images.shape[2], 1))\n",
        "test_images = test_images.reshape((test_images.shape[0], test_images.shape[1], test_images.shape[2], 1))\n",
        "\n",
        "print(\"train_images: \", train_images.shape)\n",
        "print(\"test_images:  \", test_images.shape)"
      ],
      "metadata": {
        "colab": {
          "base_uri": "https://localhost:8080/"
        },
        "id": "CXM4eJUVA7u4",
        "outputId": "a1a93baf-427b-446e-cdff-62be9803a445"
      },
      "execution_count": 16,
      "outputs": [
        {
          "output_type": "stream",
          "name": "stdout",
          "text": [
            "train_images:  (60000, 28, 28, 1)\n",
            "test_images:   (10000, 28, 28, 1)\n"
          ]
        }
      ]
    },
    {
      "cell_type": "markdown",
      "source": [
        "# **Building the model**"
      ],
      "metadata": {
        "id": "3lemhWq_AGnC"
      }
    },
    {
      "cell_type": "code",
      "source": [
        "model= keras.Sequential([\n",
        "    keras.layers.Conv2D(filters=64, kernel_size=3, activation='relu', padding='same', input_shape=[28,28,1]),\n",
        "    keras.layers.MaxPool2D(pool_size=2),\n",
        "    keras.layers.Conv2D(filters=128, kernel_size=3, activation='relu', padding='same'),\n",
        "    keras.layers.MaxPool2D(pool_size=2),\n",
        "    keras.layers.Flatten(),\n",
        "    keras.layers.Dense(128, activation='relu'),\n",
        "    keras.layers.Dropout(0.25),\n",
        "    keras.layers.Dense(64, activation='relu'),\n",
        "    keras.layers.Dropout(0.25),\n",
        "    keras.layers.Dense(10, activation='softmax'),\n",
        "])"
      ],
      "metadata": {
        "id": "jQdDiTfGBkuD"
      },
      "execution_count": 19,
      "outputs": []
    },
    {
      "cell_type": "markdown",
      "source": [
        "**Compile the model**"
      ],
      "metadata": {
        "id": "bnbMSPkhAcRE"
      }
    },
    {
      "cell_type": "code",
      "source": [
        "model.compile(optimizer='adam',\n",
        "              loss=tf.keras.losses.SparseCategoricalCrossentropy(from_logits=True),\n",
        "              metrics=['accuracy'])"
      ],
      "metadata": {
        "id": "ZfGBlZYZ_xQl"
      },
      "execution_count": 20,
      "outputs": []
    },
    {
      "cell_type": "markdown",
      "source": [
        "**Train the model**"
      ],
      "metadata": {
        "id": "vJmWcrPuAgkA"
      }
    },
    {
      "cell_type": "markdown",
      "source": [
        "save the results of our training in the variable history"
      ],
      "metadata": {
        "id": "XMHx9zX2CZub"
      }
    },
    {
      "cell_type": "code",
      "source": [
        "# Fit Model \n",
        "with tf.device('/GPU:0'):\n",
        "    history = model.fit(train_images, train_labels, epochs=10, validation_data=(test_images, test_labels))"
      ],
      "metadata": {
        "colab": {
          "base_uri": "https://localhost:8080/"
        },
        "id": "YJhHILV8BF-y",
        "outputId": "956c3de1-6b34-4214-f103-accae37c3f38"
      },
      "execution_count": 21,
      "outputs": [
        {
          "output_type": "stream",
          "name": "stdout",
          "text": [
            "Epoch 1/10\n"
          ]
        },
        {
          "output_type": "stream",
          "name": "stderr",
          "text": [
            "WARNING:tensorflow:AutoGraph could not transform <function Model.make_train_function.<locals>.train_function at 0x7fc7e68c89e0> and will run it as-is.\n",
            "Please report this to the TensorFlow team. When filing the bug, set the verbosity to 10 (on Linux, `export AUTOGRAPH_VERBOSITY=10`) and attach the full output.\n",
            "Cause: closure mismatch, requested ('self', 'step_function'), but source function had ()\n",
            "To silence this warning, decorate the function with @tf.autograph.experimental.do_not_convert\n"
          ]
        },
        {
          "output_type": "stream",
          "name": "stdout",
          "text": [
            "WARNING: AutoGraph could not transform <function Model.make_train_function.<locals>.train_function at 0x7fc7e68c89e0> and will run it as-is.\n",
            "Please report this to the TensorFlow team. When filing the bug, set the verbosity to 10 (on Linux, `export AUTOGRAPH_VERBOSITY=10`) and attach the full output.\n",
            "Cause: closure mismatch, requested ('self', 'step_function'), but source function had ()\n",
            "To silence this warning, decorate the function with @tf.autograph.experimental.do_not_convert\n"
          ]
        },
        {
          "output_type": "stream",
          "name": "stderr",
          "text": [
            "/usr/local/lib/python3.7/dist-packages/tensorflow/python/util/dispatch.py:1082: UserWarning: \"`sparse_categorical_crossentropy` received `from_logits=True`, but the `output` argument was produced by a sigmoid or softmax activation and thus does not represent logits. Was this intended?\"\n",
            "  \n"
          ]
        },
        {
          "output_type": "stream",
          "name": "stdout",
          "text": [
            "1875/1875 [==============================] - ETA: 0s - loss: 0.4939 - accuracy: 0.8225"
          ]
        },
        {
          "output_type": "stream",
          "name": "stderr",
          "text": [
            "WARNING:tensorflow:AutoGraph could not transform <function Model.make_test_function.<locals>.test_function at 0x7fc7e6a2e4d0> and will run it as-is.\n",
            "Please report this to the TensorFlow team. When filing the bug, set the verbosity to 10 (on Linux, `export AUTOGRAPH_VERBOSITY=10`) and attach the full output.\n",
            "Cause: closure mismatch, requested ('self', 'step_function'), but source function had ()\n",
            "To silence this warning, decorate the function with @tf.autograph.experimental.do_not_convert\n"
          ]
        },
        {
          "output_type": "stream",
          "name": "stdout",
          "text": [
            "WARNING: AutoGraph could not transform <function Model.make_test_function.<locals>.test_function at 0x7fc7e6a2e4d0> and will run it as-is.\n",
            "Please report this to the TensorFlow team. When filing the bug, set the verbosity to 10 (on Linux, `export AUTOGRAPH_VERBOSITY=10`) and attach the full output.\n",
            "Cause: closure mismatch, requested ('self', 'step_function'), but source function had ()\n",
            "To silence this warning, decorate the function with @tf.autograph.experimental.do_not_convert\n",
            "1875/1875 [==============================] - 145s 77ms/step - loss: 0.4939 - accuracy: 0.8225 - val_loss: 0.3233 - val_accuracy: 0.8832\n",
            "Epoch 2/10\n",
            "1875/1875 [==============================] - 141s 75ms/step - loss: 0.3117 - accuracy: 0.8873 - val_loss: 0.2859 - val_accuracy: 0.8981\n",
            "Epoch 3/10\n",
            "1875/1875 [==============================] - 146s 78ms/step - loss: 0.2638 - accuracy: 0.9049 - val_loss: 0.2458 - val_accuracy: 0.9101\n",
            "Epoch 4/10\n",
            "1875/1875 [==============================] - 144s 77ms/step - loss: 0.2275 - accuracy: 0.9176 - val_loss: 0.2410 - val_accuracy: 0.9137\n",
            "Epoch 5/10\n",
            "1875/1875 [==============================] - 143s 76ms/step - loss: 0.2054 - accuracy: 0.9248 - val_loss: 0.2502 - val_accuracy: 0.9153\n",
            "Epoch 6/10\n",
            "1875/1875 [==============================] - 142s 76ms/step - loss: 0.1832 - accuracy: 0.9326 - val_loss: 0.2550 - val_accuracy: 0.9160\n",
            "Epoch 7/10\n",
            "1875/1875 [==============================] - 150s 80ms/step - loss: 0.1668 - accuracy: 0.9400 - val_loss: 0.2418 - val_accuracy: 0.9200\n",
            "Epoch 8/10\n",
            "1875/1875 [==============================] - 142s 76ms/step - loss: 0.1517 - accuracy: 0.9447 - val_loss: 0.2433 - val_accuracy: 0.9218\n",
            "Epoch 9/10\n",
            "1875/1875 [==============================] - 145s 77ms/step - loss: 0.1358 - accuracy: 0.9500 - val_loss: 0.2533 - val_accuracy: 0.9208\n",
            "Epoch 10/10\n",
            "1875/1875 [==============================] - 144s 77ms/step - loss: 0.1277 - accuracy: 0.9527 - val_loss: 0.2660 - val_accuracy: 0.9211\n"
          ]
        }
      ]
    },
    {
      "cell_type": "code",
      "source": [
        "# history from 10 epochs that were ran by a model (loss, accuracy, validation loss, validation accuracy)\n",
        "history.history"
      ],
      "metadata": {
        "colab": {
          "base_uri": "https://localhost:8080/"
        },
        "id": "8d0MAZZ5BOnS",
        "outputId": "276fb651-452b-4d07-c462-9c1512fe902b"
      },
      "execution_count": 23,
      "outputs": [
        {
          "output_type": "execute_result",
          "data": {
            "text/plain": [
              "{'loss': [0.4938771426677704,\n",
              "  0.3117333650588989,\n",
              "  0.26376426219940186,\n",
              "  0.2274501472711563,\n",
              "  0.20537947118282318,\n",
              "  0.18315842747688293,\n",
              "  0.16678917407989502,\n",
              "  0.1516970992088318,\n",
              "  0.13578921556472778,\n",
              "  0.12768477201461792],\n",
              " 'accuracy': [0.8225333094596863,\n",
              "  0.8873166441917419,\n",
              "  0.9048500061035156,\n",
              "  0.9175666570663452,\n",
              "  0.924833357334137,\n",
              "  0.9326333403587341,\n",
              "  0.9399833083152771,\n",
              "  0.9447000026702881,\n",
              "  0.9500499963760376,\n",
              "  0.9527333378791809],\n",
              " 'val_loss': [0.323257178068161,\n",
              "  0.2858823239803314,\n",
              "  0.24583745002746582,\n",
              "  0.24095502495765686,\n",
              "  0.25021612644195557,\n",
              "  0.25501489639282227,\n",
              "  0.24175547063350677,\n",
              "  0.2432665228843689,\n",
              "  0.253264844417572,\n",
              "  0.2660408318042755],\n",
              " 'val_accuracy': [0.8831999897956848,\n",
              "  0.8981000185012817,\n",
              "  0.910099983215332,\n",
              "  0.9136999845504761,\n",
              "  0.9153000116348267,\n",
              "  0.9160000085830688,\n",
              "  0.9200000166893005,\n",
              "  0.9218000173568726,\n",
              "  0.920799970626831,\n",
              "  0.9211000204086304]}"
            ]
          },
          "metadata": {},
          "execution_count": 23
        }
      ]
    },
    {
      "cell_type": "markdown",
      "source": [
        "# **Evaluating the model**"
      ],
      "metadata": {
        "id": "gbN-rL7jCiB6"
      }
    },
    {
      "cell_type": "code",
      "source": [
        "# Evaluate Model\n",
        "test_loss, test_acc = model.evaluate(test_images, test_labels, verbose=2)"
      ],
      "metadata": {
        "colab": {
          "base_uri": "https://localhost:8080/"
        },
        "id": "o9BRhOphC96s",
        "outputId": "2a9ce7b0-ec78-48b9-f4fb-096d5ac4dfcf"
      },
      "execution_count": 24,
      "outputs": [
        {
          "output_type": "stream",
          "name": "stdout",
          "text": [
            "313/313 - 7s - loss: 0.2660 - accuracy: 0.9211 - 7s/epoch - 24ms/step\n"
          ]
        }
      ]
    },
    {
      "cell_type": "markdown",
      "source": [
        "**Loss**"
      ],
      "metadata": {
        "id": "hlSWxKKLCsTw"
      }
    },
    {
      "cell_type": "code",
      "source": [
        "plt.plot(history.history['loss'])\n",
        "plt.plot(history.history['val_loss'])\n",
        "\n",
        "plt.title('Model Loss')\n",
        "plt.ylabel('Loss')\n",
        "plt.xlabel('Epoch')\n",
        "plt.legend(['Train', 'Test'], loc='upper left')\n",
        "plt.show();"
      ],
      "metadata": {
        "colab": {
          "base_uri": "https://localhost:8080/",
          "height": 295
        },
        "id": "GWHXXMO-BSQn",
        "outputId": "840c1353-9a4a-428b-cfc9-dbd9fecba2c6"
      },
      "execution_count": 26,
      "outputs": [
        {
          "output_type": "display_data",
          "data": {
            "text/plain": [
              "<Figure size 432x288 with 1 Axes>"
            ],
            "image/png": "[encoded data removed]"
          },
          "metadata": {
            "needs_background": "light"
          }
        }
      ]
    },
    {
      "cell_type": "markdown",
      "source": [
        "**Accruracy**"
      ],
      "metadata": {
        "id": "vyX5geVHCvjM"
      }
    },
    {
      "cell_type": "code",
      "source": [
        "plt.plot(history.history['accuracy'])\n",
        "plt.plot(history.history['val_accuracy'])\n",
        "\n",
        "plt.title('Model Accuracy')\n",
        "plt.ylabel('Accuracy')\n",
        "plt.xlabel('Epoch')\n",
        "plt.legend(['Train', 'Test'], loc='upper left')\n",
        "plt.show();"
      ],
      "metadata": {
        "colab": {
          "base_uri": "https://localhost:8080/",
          "height": 295
        },
        "id": "yOzvhnyXBSNC",
        "outputId": "0e4d483e-7709-4204-a6b1-9cbc575a7889"
      },
      "execution_count": 27,
      "outputs": [
        {
          "output_type": "display_data",
          "data": {
            "text/plain": [
              "<Figure size 432x288 with 1 Axes>"
            ],
            "image/png": "[encoded data removed]"
          },
          "metadata": {
            "needs_background": "light"
          }
        }
      ]
    },
    {
      "cell_type": "markdown",
      "source": [
        "# **Make predictions**"
      ],
      "metadata": {
        "id": "hemh1m11C8tP"
      }
    },
    {
      "cell_type": "code",
      "source": [
        "# predictions are probability distributions between 0 and 1 (because of softmax)\n",
        "pred = model.predict(test_images)\n",
        "\n",
        "pred"
      ],
      "metadata": {
        "colab": {
          "base_uri": "https://localhost:8080/"
        },
        "id": "QknfFXF8BVwB",
        "outputId": "b3c6eb1f-26ed-4aa8-84d0-37df5982246f"
      },
      "execution_count": 28,
      "outputs": [
        {
          "output_type": "stream",
          "name": "stderr",
          "text": [
            "WARNING:tensorflow:AutoGraph could not transform <function Model.make_predict_function.<locals>.predict_function at 0x7fc7e6b86050> and will run it as-is.\n",
            "Please report this to the TensorFlow team. When filing the bug, set the verbosity to 10 (on Linux, `export AUTOGRAPH_VERBOSITY=10`) and attach the full output.\n",
            "Cause: closure mismatch, requested ('self', 'step_function'), but source function had ()\n",
            "To silence this warning, decorate the function with @tf.autograph.experimental.do_not_convert\n"
          ]
        },
        {
          "output_type": "stream",
          "name": "stdout",
          "text": [
            "WARNING: AutoGraph could not transform <function Model.make_predict_function.<locals>.predict_function at 0x7fc7e6b86050> and will run it as-is.\n",
            "Please report this to the TensorFlow team. When filing the bug, set the verbosity to 10 (on Linux, `export AUTOGRAPH_VERBOSITY=10`) and attach the full output.\n",
            "Cause: closure mismatch, requested ('self', 'step_function'), but source function had ()\n",
            "To silence this warning, decorate the function with @tf.autograph.experimental.do_not_convert\n",
            "313/313 [==============================] - 7s 20ms/step\n"
          ]
        },
        {
          "output_type": "execute_result",
          "data": {
            "text/plain": [
              "array([[3.2675653e-18, 1.1364731e-13, 1.1720152e-15, ..., 9.6858798e-07,\n",
              "        3.8600062e-15, 9.9999899e-01],\n",
              "       [2.2900761e-09, 6.5378688e-17, 9.9999923e-01, ..., 2.8714146e-23,\n",
              "        1.2469664e-15, 7.5886137e-22],\n",
              "       [9.7878873e-25, 9.9999994e-01, 4.6396949e-23, ..., 3.1037496e-36,\n",
              "        1.5535570e-24, 8.1541597e-33],\n",
              "       ...,\n",
              "       [1.7534391e-18, 2.5244520e-25, 6.3399529e-28, ..., 5.5271720e-27,\n",
              "        9.9999994e-01, 2.4348422e-28],\n",
              "       [7.5273604e-20, 9.9999994e-01, 5.4424549e-20, ..., 1.3271531e-28,\n",
              "        4.8909212e-20, 4.1436598e-26],\n",
              "       [2.0734350e-04, 1.0982004e-05, 3.6616261e-06, ..., 5.6450918e-02,\n",
              "        1.3642830e-03, 4.1270726e-03]], dtype=float32)"
            ]
          },
          "metadata": {},
          "execution_count": 28
        }
      ]
    },
    {
      "cell_type": "code",
      "source": [
        "# So we need to find which is the max\n",
        "# for this we can use argmax function from numpy\n",
        "print(pred[0])\n",
        "# it gives an index of maximum value\n",
        "np.argmax(pred[0])"
      ],
      "metadata": {
        "colab": {
          "base_uri": "https://localhost:8080/"
        },
        "id": "TP6PTo-oBVsn",
        "outputId": "8980e3a2-59f6-4cf3-8bd2-0896bb5dbf45"
      },
      "execution_count": 29,
      "outputs": [
        {
          "output_type": "stream",
          "name": "stdout",
          "text": [
            "[3.2675653e-18 1.1364731e-13 1.1720152e-15 6.0671758e-12 1.1845060e-15\n",
            " 6.5457517e-10 8.1750944e-15 9.6858798e-07 3.8600062e-15 9.9999899e-01]\n"
          ]
        },
        {
          "output_type": "execute_result",
          "data": {
            "text/plain": [
              "9"
            ]
          },
          "metadata": {},
          "execution_count": 29
        }
      ]
    },
    {
      "cell_type": "code",
      "source": [
        "# we can convert predictions into labels by computing argmax for each \n",
        "pred_classes = [np.argmax(element) for element in pred]\n",
        "pred_classes"
      ],
      "metadata": {
        "colab": {
          "base_uri": "https://localhost:8080/"
        },
        "id": "mSkGQBBLBcXF",
        "outputId": "8de5e512-5642-41f6-deda-6d4292867cdd"
      },
      "execution_count": 30,
      "outputs": [
        {
          "output_type": "execute_result",
          "data": {
            "text/plain": [
              "[9,\n",
              " 2,\n",
              " 1,\n",
              " 1,\n",
              " 6,\n",
              " 1,\n",
              " 2,\n",
              " 6,\n",
              " 5,\n",
              " 7,\n",
              " 4,\n",
              " 5,\n",
              " 7,\n",
              " 3,\n",
              " 4,\n",
              " 1,\n",
              " 2,\n",
              " 4,\n",
              " 8,\n",
              " 0,\n",
              " 2,\n",
              " 5,\n",
              " 7,\n",
              " 5,\n",
              " 1,\n",
              " 2,\n",
              " 6,\n",
              " 0,\n",
              " 9,\n",
              " 3,\n",
              " 8,\n",
              " 8,\n",
              " 3,\n",
              " 3,\n",
              " 8,\n",
              " 0,\n",
              " 7,\n",
              " 5,\n",
              " 7,\n",
              " 9,\n",
              " 6,\n",
              " 1,\n",
              " 6,\n",
              " 7,\n",
              " 6,\n",
              " 7,\n",
              " 2,\n",
              " 1,\n",
              " 6,\n",
              " 2,\n",
              " 4,\n",
              " 4,\n",
              " 5,\n",
              " 8,\n",
              " 2,\n",
              " 2,\n",
              " 8,\n",
              " 4,\n",
              " 8,\n",
              " 0,\n",
              " 7,\n",
              " 7,\n",
              " 8,\n",
              " 5,\n",
              " 1,\n",
              " 1,\n",
              " 2,\n",
              " 4,\n",
              " 7,\n",
              " 8,\n",
              " 7,\n",
              " 0,\n",
              " 2,\n",
              " 6,\n",
              " 2,\n",
              " 3,\n",
              " 1,\n",
              " 2,\n",
              " 8,\n",
              " 4,\n",
              " 1,\n",
              " 8,\n",
              " 5,\n",
              " 9,\n",
              " 5,\n",
              " 0,\n",
              " 3,\n",
              " 2,\n",
              " 0,\n",
              " 2,\n",
              " 5,\n",
              " 3,\n",
              " 6,\n",
              " 7,\n",
              " 1,\n",
              " 8,\n",
              " 0,\n",
              " 1,\n",
              " 4,\n",
              " 2,\n",
              " 3,\n",
              " 6,\n",
              " 7,\n",
              " 2,\n",
              " 7,\n",
              " 8,\n",
              " 5,\n",
              " 9,\n",
              " 9,\n",
              " 4,\n",
              " 2,\n",
              " 5,\n",
              " 7,\n",
              " 0,\n",
              " 5,\n",
              " 2,\n",
              " 8,\n",
              " 4,\n",
              " 7,\n",
              " 8,\n",
              " 0,\n",
              " 0,\n",
              " 9,\n",
              " 9,\n",
              " 3,\n",
              " 0,\n",
              " 8,\n",
              " 4,\n",
              " 1,\n",
              " 5,\n",
              " 4,\n",
              " 1,\n",
              " 9,\n",
              " 1,\n",
              " 8,\n",
              " 6,\n",
              " 2,\n",
              " 1,\n",
              " 2,\n",
              " 5,\n",
              " 1,\n",
              " 0,\n",
              " 0,\n",
              " 0,\n",
              " 1,\n",
              " 6,\n",
              " 1,\n",
              " 3,\n",
              " 2,\n",
              " 2,\n",
              " 3,\n",
              " 4,\n",
              " 1,\n",
              " 3,\n",
              " 5,\n",
              " 0,\n",
              " 4,\n",
              " 7,\n",
              " 9,\n",
              " 3,\n",
              " 7,\n",
              " 2,\n",
              " 3,\n",
              " 9,\n",
              " 0,\n",
              " 9,\n",
              " 4,\n",
              " 7,\n",
              " 4,\n",
              " 2,\n",
              " 0,\n",
              " 5,\n",
              " 2,\n",
              " 1,\n",
              " 2,\n",
              " 1,\n",
              " 3,\n",
              " 0,\n",
              " 9,\n",
              " 1,\n",
              " 0,\n",
              " 9,\n",
              " 3,\n",
              " 6,\n",
              " 7,\n",
              " 9,\n",
              " 9,\n",
              " 4,\n",
              " 4,\n",
              " 7,\n",
              " 1,\n",
              " 2,\n",
              " 1,\n",
              " 6,\n",
              " 3,\n",
              " 2,\n",
              " 8,\n",
              " 3,\n",
              " 6,\n",
              " 1,\n",
              " 1,\n",
              " 0,\n",
              " 2,\n",
              " 9,\n",
              " 2,\n",
              " 4,\n",
              " 0,\n",
              " 7,\n",
              " 9,\n",
              " 8,\n",
              " 4,\n",
              " 1,\n",
              " 8,\n",
              " 4,\n",
              " 1,\n",
              " 3,\n",
              " 1,\n",
              " 6,\n",
              " 7,\n",
              " 2,\n",
              " 8,\n",
              " 5,\n",
              " 2,\n",
              " 0,\n",
              " 7,\n",
              " 7,\n",
              " 6,\n",
              " 2,\n",
              " 7,\n",
              " 0,\n",
              " 7,\n",
              " 8,\n",
              " 9,\n",
              " 2,\n",
              " 9,\n",
              " 0,\n",
              " 5,\n",
              " 1,\n",
              " 4,\n",
              " 2,\n",
              " 5,\n",
              " 4,\n",
              " 9,\n",
              " 2,\n",
              " 2,\n",
              " 8,\n",
              " 6,\n",
              " 4,\n",
              " 2,\n",
              " 2,\n",
              " 9,\n",
              " 7,\n",
              " 6,\n",
              " 5,\n",
              " 5,\n",
              " 2,\n",
              " 8,\n",
              " 5,\n",
              " 2,\n",
              " 3,\n",
              " 0,\n",
              " 4,\n",
              " 8,\n",
              " 0,\n",
              " 0,\n",
              " 6,\n",
              " 4,\n",
              " 8,\n",
              " 9,\n",
              " 6,\n",
              " 1,\n",
              " 6,\n",
              " 0,\n",
              " 2,\n",
              " 3,\n",
              " 0,\n",
              " 8,\n",
              " 3,\n",
              " 7,\n",
              " 4,\n",
              " 0,\n",
              " 1,\n",
              " 6,\n",
              " 4,\n",
              " 0,\n",
              " 6,\n",
              " 6,\n",
              " 7,\n",
              " 5,\n",
              " 4,\n",
              " 5,\n",
              " 9,\n",
              " 5,\n",
              " 6,\n",
              " 5,\n",
              " 5,\n",
              " 1,\n",
              " 9,\n",
              " 8,\n",
              " 8,\n",
              " 3,\n",
              " 3,\n",
              " 6,\n",
              " 8,\n",
              " 0,\n",
              " 0,\n",
              " 2,\n",
              " 9,\n",
              " 7,\n",
              " 7,\n",
              " 1,\n",
              " 3,\n",
              " 6,\n",
              " 4,\n",
              " 2,\n",
              " 4,\n",
              " 7,\n",
              " 1,\n",
              " 6,\n",
              " 4,\n",
              " 8,\n",
              " 2,\n",
              " 6,\n",
              " 5,\n",
              " 6,\n",
              " 2,\n",
              " 7,\n",
              " 7,\n",
              " 7,\n",
              " 3,\n",
              " 3,\n",
              " 7,\n",
              " 0,\n",
              " 7,\n",
              " 1,\n",
              " 3,\n",
              " 7,\n",
              " 2,\n",
              " 2,\n",
              " 3,\n",
              " 4,\n",
              " 0,\n",
              " 3,\n",
              " 1,\n",
              " 6,\n",
              " 1,\n",
              " 9,\n",
              " 4,\n",
              " 9,\n",
              " 9,\n",
              " 1,\n",
              " 7,\n",
              " 8,\n",
              " 3,\n",
              " 0,\n",
              " 0,\n",
              " 2,\n",
              " 4,\n",
              " 8,\n",
              " 0,\n",
              " 1,\n",
              " 2,\n",
              " 2,\n",
              " 4,\n",
              " 4,\n",
              " 7,\n",
              " 3,\n",
              " 2,\n",
              " 2,\n",
              " 5,\n",
              " 0,\n",
              " 7,\n",
              " 9,\n",
              " 4,\n",
              " 0,\n",
              " 9,\n",
              " 3,\n",
              " 9,\n",
              " 3,\n",
              " 2,\n",
              " 5,\n",
              " 6,\n",
              " 0,\n",
              " 3,\n",
              " 5,\n",
              " 8,\n",
              " 1,\n",
              " 6,\n",
              " 2,\n",
              " 6,\n",
              " 6,\n",
              " 4,\n",
              " 9,\n",
              " 5,\n",
              " 2,\n",
              " 0,\n",
              " 4,\n",
              " 6,\n",
              " 1,\n",
              " 2,\n",
              " 0,\n",
              " 9,\n",
              " 7,\n",
              " 0,\n",
              " 4,\n",
              " 4,\n",
              " 6,\n",
              " 6,\n",
              " 2,\n",
              " 1,\n",
              " 0,\n",
              " 6,\n",
              " 7,\n",
              " 0,\n",
              " 9,\n",
              " 4,\n",
              " 2,\n",
              " 1,\n",
              " 5,\n",
              " 4,\n",
              " 5,\n",
              " 3,\n",
              " 8,\n",
              " 5,\n",
              " 8,\n",
              " 4,\n",
              " 4,\n",
              " 8,\n",
              " 9,\n",
              " 8,\n",
              " 6,\n",
              " 2,\n",
              " 4,\n",
              " 4,\n",
              " 2,\n",
              " 4,\n",
              " 1,\n",
              " 6,\n",
              " 1,\n",
              " 3,\n",
              " 0,\n",
              " 7,\n",
              " 8,\n",
              " 8,\n",
              " 4,\n",
              " 5,\n",
              " 3,\n",
              " 1,\n",
              " 9,\n",
              " 5,\n",
              " 3,\n",
              " 3,\n",
              " 0,\n",
              " 1,\n",
              " 0,\n",
              " 2,\n",
              " 9,\n",
              " 2,\n",
              " 0,\n",
              " 6,\n",
              " 0,\n",
              " 4,\n",
              " 2,\n",
              " 0,\n",
              " 0,\n",
              " 3,\n",
              " 3,\n",
              " 8,\n",
              " 2,\n",
              " 8,\n",
              " 9,\n",
              " 4,\n",
              " 0,\n",
              " 7,\n",
              " 0,\n",
              " 4,\n",
              " 4,\n",
              " 9,\n",
              " 2,\n",
              " 9,\n",
              " 5,\n",
              " 9,\n",
              " 3,\n",
              " 7,\n",
              " 5,\n",
              " 7,\n",
              " 8,\n",
              " 1,\n",
              " 0,\n",
              " 0,\n",
              " 3,\n",
              " 6,\n",
              " 8,\n",
              " 9,\n",
              " 7,\n",
              " 9,\n",
              " 1,\n",
              " 2,\n",
              " 7,\n",
              " 0,\n",
              " 2,\n",
              " 0,\n",
              " 5,\n",
              " 7,\n",
              " 1,\n",
              " 8,\n",
              " 2,\n",
              " 2,\n",
              " 2,\n",
              " 2,\n",
              " 4,\n",
              " 2,\n",
              " 6,\n",
              " 1,\n",
              " 9,\n",
              " 8,\n",
              " 5,\n",
              " 1,\n",
              " 9,\n",
              " 1,\n",
              " 2,\n",
              " 8,\n",
              " 3,\n",
              " 8,\n",
              " 9,\n",
              " 2,\n",
              " 4,\n",
              " 2,\n",
              " 8,\n",
              " 6,\n",
              " 2,\n",
              " 0,\n",
              " 5,\n",
              " 8,\n",
              " 8,\n",
              " 5,\n",
              " 3,\n",
              " 9,\n",
              " 4,\n",
              " 3,\n",
              " 4,\n",
              " 4,\n",
              " 5,\n",
              " 1,\n",
              " 0,\n",
              " 1,\n",
              " 2,\n",
              " 0,\n",
              " 6,\n",
              " 9,\n",
              " 6,\n",
              " 1,\n",
              " 5,\n",
              " 1,\n",
              " 1,\n",
              " 1,\n",
              " 9,\n",
              " 3,\n",
              " 6,\n",
              " 5,\n",
              " 3,\n",
              " 6,\n",
              " 6,\n",
              " 6,\n",
              " 4,\n",
              " 6,\n",
              " 0,\n",
              " 5,\n",
              " 8,\n",
              " 3,\n",
              " 4,\n",
              " 4,\n",
              " 6,\n",
              " 7,\n",
              " 7,\n",
              " 8,\n",
              " 9,\n",
              " 0,\n",
              " 3,\n",
              " 8,\n",
              " 7,\n",
              " 6,\n",
              " 7,\n",
              " 9,\n",
              " 3,\n",
              " 4,\n",
              " 6,\n",
              " 3,\n",
              " 5,\n",
              " 0,\n",
              " 1,\n",
              " 1,\n",
              " 5,\n",
              " 9,\n",
              " 4,\n",
              " 6,\n",
              " 5,\n",
              " 7,\n",
              " 8,\n",
              " 1,\n",
              " 6,\n",
              " 9,\n",
              " 7,\n",
              " 7,\n",
              " 1,\n",
              " 0,\n",
              " 9,\n",
              " 6,\n",
              " 2,\n",
              " 9,\n",
              " 0,\n",
              " 7,\n",
              " 6,\n",
              " 8,\n",
              " 2,\n",
              " 7,\n",
              " 6,\n",
              " 2,\n",
              " 3,\n",
              " 8,\n",
              " 2,\n",
              " 6,\n",
              " 6,\n",
              " 9,\n",
              " 3,\n",
              " 0,\n",
              " 7,\n",
              " 8,\n",
              " 6,\n",
              " 2,\n",
              " 9,\n",
              " 4,\n",
              " 2,\n",
              " 6,\n",
              " 6,\n",
              " 8,\n",
              " 0,\n",
              " 4,\n",
              " 4,\n",
              " 2,\n",
              " 7,\n",
              " 5,\n",
              " 8,\n",
              " 4,\n",
              " 9,\n",
              " 1,\n",
              " 0,\n",
              " 5,\n",
              " 4,\n",
              " 4,\n",
              " 4,\n",
              " 0,\n",
              " 0,\n",
              " 4,\n",
              " 5,\n",
              " 6,\n",
              " 0,\n",
              " 4,\n",
              " 5,\n",
              " 4,\n",
              " 1,\n",
              " 3,\n",
              " 1,\n",
              " 1,\n",
              " 6,\n",
              " 4,\n",
              " 3,\n",
              " 8,\n",
              " 2,\n",
              " 0,\n",
              " 6,\n",
              " 7,\n",
              " 0,\n",
              " 4,\n",
              " 6,\n",
              " 8,\n",
              " 5,\n",
              " 0,\n",
              " 8,\n",
              " 2,\n",
              " 9,\n",
              " 2,\n",
              " 8,\n",
              " 9,\n",
              " 6,\n",
              " 4,\n",
              " 2,\n",
              " 9,\n",
              " 6,\n",
              " 4,\n",
              " 5,\n",
              " 0,\n",
              " 9,\n",
              " 5,\n",
              " 3,\n",
              " 6,\n",
              " 6,\n",
              " 8,\n",
              " 3,\n",
              " 3,\n",
              " 8,\n",
              " 1,\n",
              " 2,\n",
              " 0,\n",
              " 9,\n",
              " 7,\n",
              " 9,\n",
              " 4,\n",
              " 8,\n",
              " 9,\n",
              " 1,\n",
              " 3,\n",
              " 7,\n",
              " 3,\n",
              " 0,\n",
              " 2,\n",
              " 6,\n",
              " 7,\n",
              " 1,\n",
              " 0,\n",
              " 0,\n",
              " 8,\n",
              " 5,\n",
              " 2,\n",
              " 6,\n",
              " 6,\n",
              " 6,\n",
              " 4,\n",
              " 1,\n",
              " 5,\n",
              " 9,\n",
              " 0,\n",
              " 0,\n",
              " 1,\n",
              " 6,\n",
              " 5,\n",
              " 0,\n",
              " 0,\n",
              " 3,\n",
              " 3,\n",
              " 3,\n",
              " 8,\n",
              " 1,\n",
              " 1,\n",
              " 8,\n",
              " 5,\n",
              " 7,\n",
              " 7,\n",
              " 8,\n",
              " 7,\n",
              " 4,\n",
              " 0,\n",
              " 7,\n",
              " 0,\n",
              " 8,\n",
              " 0,\n",
              " 9,\n",
              " 7,\n",
              " 6,\n",
              " 1,\n",
              " 0,\n",
              " 6,\n",
              " 4,\n",
              " 8,\n",
              " 0,\n",
              " 6,\n",
              " 3,\n",
              " 6,\n",
              " 8,\n",
              " 4,\n",
              " 0,\n",
              " 8,\n",
              " 9,\n",
              " 2,\n",
              " 4,\n",
              " 5,\n",
              " 9,\n",
              " 1,\n",
              " 4,\n",
              " 4,\n",
              " 9,\n",
              " 2,\n",
              " 1,\n",
              " 7,\n",
              " 9,\n",
              " 5,\n",
              " 8,\n",
              " 3,\n",
              " 7,\n",
              " 7,\n",
              " 1,\n",
              " 1,\n",
              " 1,\n",
              " 6,\n",
              " 9,\n",
              " 5,\n",
              " 3,\n",
              " 8,\n",
              " 4,\n",
              " 2,\n",
              " 9,\n",
              " 4,\n",
              " 8,\n",
              " 3,\n",
              " 2,\n",
              " 4,\n",
              " 4,\n",
              " 7,\n",
              " 1,\n",
              " 4,\n",
              " 9,\n",
              " 3,\n",
              " 5,\n",
              " 8,\n",
              " 5,\n",
              " 4,\n",
              " 7,\n",
              " 2,\n",
              " 8,\n",
              " 5,\n",
              " 9,\n",
              " 3,\n",
              " 3,\n",
              " 6,\n",
              " 7,\n",
              " 1,\n",
              " 7,\n",
              " 3,\n",
              " 5,\n",
              " 4,\n",
              " 6,\n",
              " 5,\n",
              " 8,\n",
              " 3,\n",
              " 7,\n",
              " 1,\n",
              " 2,\n",
              " 6,\n",
              " 1,\n",
              " 9,\n",
              " 8,\n",
              " 2,\n",
              " 7,\n",
              " 1,\n",
              " 3,\n",
              " 7,\n",
              " 5,\n",
              " 9,\n",
              " 9,\n",
              " 1,\n",
              " 8,\n",
              " 4,\n",
              " 5,\n",
              " 7,\n",
              " 1,\n",
              " 9,\n",
              " 8,\n",
              " 1,\n",
              " 0,\n",
              " 0,\n",
              " 2,\n",
              " 1,\n",
              " 7,\n",
              " 1,\n",
              " 1,\n",
              " 5,\n",
              " 7,\n",
              " 1,\n",
              " 5,\n",
              " 2,\n",
              " 2,\n",
              " 3,\n",
              " 3,\n",
              " 1,\n",
              " 1,\n",
              " 4,\n",
              " 9,\n",
              " 4,\n",
              " 3,\n",
              " 7,\n",
              " 7,\n",
              " 6,\n",
              " 8,\n",
              " 9,\n",
              " 9,\n",
              " 6,\n",
              " 1,\n",
              " 3,\n",
              " 4,\n",
              " 0,\n",
              " 3,\n",
              " 5,\n",
              " 9,\n",
              " 4,\n",
              " 3,\n",
              " 5,\n",
              " 5,\n",
              " 1,\n",
              " 5,\n",
              " 7,\n",
              " 8,\n",
              " 7,\n",
              " 5,\n",
              " 3,\n",
              " 6,\n",
              " 2,\n",
              " 0,\n",
              " 4,\n",
              " 0,\n",
              " 2,\n",
              " 0,\n",
              " 2,\n",
              " 5,\n",
              " 5,\n",
              " 1,\n",
              " 2,\n",
              " 0,\n",
              " 9,\n",
              " 3,\n",
              " 7,\n",
              " 8,\n",
              " 4,\n",
              " 8,\n",
              " 3,\n",
              " 4,\n",
              " 7,\n",
              " 0,\n",
              " 7,\n",
              " 4,\n",
              " 8,\n",
              " 0,\n",
              " 3,\n",
              " 4,\n",
              " 4,\n",
              " 3,\n",
              " 6,\n",
              " 9,\n",
              " 0,\n",
              " 2,\n",
              " 4,\n",
              " 9,\n",
              " 1,\n",
              " 8,\n",
              " 1,\n",
              " 7,\n",
              " 5,\n",
              " 5,\n",
              " 6,\n",
              " 0,\n",
              " 2,\n",
              " 1,\n",
              " 0,\n",
              " 5,\n",
              " 4,\n",
              " 0,\n",
              " 0,\n",
              " 2,\n",
              " 7,\n",
              " 5,\n",
              " 0,\n",
              " 3,\n",
              " 5,\n",
              " 9,\n",
              " 6,\n",
              " 8,\n",
              " 2,\n",
              " 6,\n",
              " 4,\n",
              " 6,\n",
              " 2,\n",
              " 9,\n",
              " 6,\n",
              " 7,\n",
              " 7,\n",
              " 1,\n",
              " 4,\n",
              " 4,\n",
              " 6,\n",
              " 5,\n",
              " 0,\n",
              " 9,\n",
              " 9,\n",
              " 8,\n",
              " 8,\n",
              " 3,\n",
              " 0,\n",
              " 2,\n",
              " 4,\n",
              " 6,\n",
              " 6,\n",
              " 3,\n",
              " 2,\n",
              " 3,\n",
              " 5,\n",
              " 4,\n",
              " 9,\n",
              " 3,\n",
              " 2,\n",
              " 7,\n",
              " 7,\n",
              " ...]"
            ]
          },
          "metadata": {},
          "execution_count": 30
        }
      ]
    },
    {
      "cell_type": "code",
      "source": [
        "probability_model = tf.keras.Sequential([model, \n",
        "                                         tf.keras.layers.Softmax()])"
      ],
      "metadata": {
        "id": "BlX12sKyN6rD"
      },
      "execution_count": 41,
      "outputs": []
    },
    {
      "cell_type": "code",
      "source": [
        "predictions = probability_model.predict(test_images)"
      ],
      "metadata": {
        "colab": {
          "base_uri": "https://localhost:8080/"
        },
        "id": "1G2okAbcOFVk",
        "outputId": "0bc4d07a-6df8-4f19-c6df-6396fe1f37fb"
      },
      "execution_count": 42,
      "outputs": [
        {
          "output_type": "stream",
          "name": "stderr",
          "text": [
            "WARNING:tensorflow:AutoGraph could not transform <function Model.make_predict_function.<locals>.predict_function at 0x7fc7e3e1b7a0> and will run it as-is.\n",
            "Please report this to the TensorFlow team. When filing the bug, set the verbosity to 10 (on Linux, `export AUTOGRAPH_VERBOSITY=10`) and attach the full output.\n",
            "Cause: closure mismatch, requested ('self', 'step_function'), but source function had ()\n",
            "To silence this warning, decorate the function with @tf.autograph.experimental.do_not_convert\n"
          ]
        },
        {
          "output_type": "stream",
          "name": "stdout",
          "text": [
            "WARNING: AutoGraph could not transform <function Model.make_predict_function.<locals>.predict_function at 0x7fc7e3e1b7a0> and will run it as-is.\n",
            "Please report this to the TensorFlow team. When filing the bug, set the verbosity to 10 (on Linux, `export AUTOGRAPH_VERBOSITY=10`) and attach the full output.\n",
            "Cause: closure mismatch, requested ('self', 'step_function'), but source function had ()\n",
            "To silence this warning, decorate the function with @tf.autograph.experimental.do_not_convert\n",
            "313/313 [==============================] - 7s 21ms/step\n"
          ]
        }
      ]
    },
    {
      "cell_type": "code",
      "source": [
        "predictions[0]"
      ],
      "metadata": {
        "colab": {
          "base_uri": "https://localhost:8080/"
        },
        "id": "mPSpp7pzONkE",
        "outputId": "ea9016ca-4d54-4b8a-dfdb-64b00e581d3b"
      },
      "execution_count": 43,
      "outputs": [
        {
          "output_type": "execute_result",
          "data": {
            "text/plain": [
              "array([0.08533675, 0.08533675, 0.08533675, 0.08533675, 0.08533675,\n",
              "       0.08533675, 0.08533675, 0.08533683, 0.08533675, 0.2319691 ],\n",
              "      dtype=float32)"
            ]
          },
          "metadata": {},
          "execution_count": 43
        }
      ]
    },
    {
      "cell_type": "code",
      "source": [
        "test_labels[0]"
      ],
      "metadata": {
        "colab": {
          "base_uri": "https://localhost:8080/"
        },
        "id": "dsGzbGALONcy",
        "outputId": "de1e4897-11ad-46e7-c14b-0be5e8fae454"
      },
      "execution_count": 44,
      "outputs": [
        {
          "output_type": "execute_result",
          "data": {
            "text/plain": [
              "9"
            ]
          },
          "metadata": {},
          "execution_count": 44
        }
      ]
    },
    {
      "cell_type": "markdown",
      "source": [
        "# **Classification Report**"
      ],
      "metadata": {
        "id": "7obrLSFsDo9f"
      }
    },
    {
      "cell_type": "code",
      "source": [
        "# compare true vs prediced\n",
        "from sklearn.metrics import classification_report\n",
        "\n",
        "print(classification_report(test_labels, pred_classes))"
      ],
      "metadata": {
        "id": "4Vcj16ZEA44N",
        "colab": {
          "base_uri": "https://localhost:8080/"
        },
        "outputId": "207f01aa-37ba-40a3-acba-5595cb05d409"
      },
      "execution_count": 50,
      "outputs": [
        {
          "output_type": "stream",
          "name": "stdout",
          "text": [
            "              precision    recall  f1-score   support\n",
            "\n",
            "           0       0.88      0.85      0.87      1000\n",
            "           1       0.99      0.99      0.99      1000\n",
            "           2       0.85      0.89      0.87      1000\n",
            "           3       0.91      0.94      0.93      1000\n",
            "           4       0.87      0.88      0.88      1000\n",
            "           5       0.99      0.98      0.99      1000\n",
            "           6       0.79      0.74      0.77      1000\n",
            "           7       0.96      0.98      0.97      1000\n",
            "           8       0.98      0.99      0.98      1000\n",
            "           9       0.98      0.96      0.97      1000\n",
            "\n",
            "    accuracy                           0.92     10000\n",
            "   macro avg       0.92      0.92      0.92     10000\n",
            "weighted avg       0.92      0.92      0.92     10000\n",
            "\n"
          ]
        }
      ]
    }
  ]
}